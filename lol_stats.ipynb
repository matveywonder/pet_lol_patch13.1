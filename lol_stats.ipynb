{
 "cells": [
  {
   "cell_type": "markdown",
   "id": "62edf79a",
   "metadata": {},
   "source": [
    "## Загрузка и обзор данных"
   ]
  },
  {
   "cell_type": "code",
   "execution_count": 1,
   "id": "9f8a97be",
   "metadata": {},
   "outputs": [],
   "source": [
    "import pandas as pd\n",
    "import matplotlib.pyplot as plt\n",
    "import seaborn as sns"
   ]
  },
  {
   "cell_type": "code",
   "execution_count": 2,
   "id": "f5375b33",
   "metadata": {},
   "outputs": [],
   "source": [
    "matchup=pd.read_csv(r'C:\\Users\\Matvey Wonder\\Desktop\\учеба\\DA\\lol_stats\\1v1.csv')\n",
    "stats=pd.read_csv(r'C:\\Users\\Matvey Wonder\\Desktop\\учеба\\DA\\lol_stats\\Stats13.1.csv',sep=';')"
   ]
  },
  {
   "cell_type": "code",
   "execution_count": 3,
   "id": "ad98262a",
   "metadata": {},
   "outputs": [
    {
     "data": {
      "text/html": [
       "<div>\n",
       "<style scoped>\n",
       "    .dataframe tbody tr th:only-of-type {\n",
       "        vertical-align: middle;\n",
       "    }\n",
       "\n",
       "    .dataframe tbody tr th {\n",
       "        vertical-align: top;\n",
       "    }\n",
       "\n",
       "    .dataframe thead th {\n",
       "        text-align: right;\n",
       "    }\n",
       "</style>\n",
       "<table border=\"1\" class=\"dataframe\">\n",
       "  <thead>\n",
       "    <tr style=\"text-align: right;\">\n",
       "      <th></th>\n",
       "      <th>match_id</th>\n",
       "      <th>champ1</th>\n",
       "      <th>champ2</th>\n",
       "      <th>win</th>\n",
       "    </tr>\n",
       "  </thead>\n",
       "  <tbody>\n",
       "    <tr>\n",
       "      <th>1288763</th>\n",
       "      <td>1288763</td>\n",
       "      <td>Galio</td>\n",
       "      <td>Lucian</td>\n",
       "      <td>0</td>\n",
       "    </tr>\n",
       "    <tr>\n",
       "      <th>1288764</th>\n",
       "      <td>1288764</td>\n",
       "      <td>Jhin</td>\n",
       "      <td>Kaisa</td>\n",
       "      <td>0</td>\n",
       "    </tr>\n",
       "    <tr>\n",
       "      <th>1288765</th>\n",
       "      <td>1288765</td>\n",
       "      <td>Lulu</td>\n",
       "      <td>Blitzcrank</td>\n",
       "      <td>0</td>\n",
       "    </tr>\n",
       "    <tr>\n",
       "      <th>1288766</th>\n",
       "      <td>1288766</td>\n",
       "      <td>Kayn</td>\n",
       "      <td>Hecarim</td>\n",
       "      <td>0</td>\n",
       "    </tr>\n",
       "    <tr>\n",
       "      <th>1288767</th>\n",
       "      <td>1288767</td>\n",
       "      <td>Karma</td>\n",
       "      <td>Vladimir</td>\n",
       "      <td>0</td>\n",
       "    </tr>\n",
       "    <tr>\n",
       "      <th>1288768</th>\n",
       "      <td>1288768</td>\n",
       "      <td>Xerath</td>\n",
       "      <td>Anivia</td>\n",
       "      <td>0</td>\n",
       "    </tr>\n",
       "    <tr>\n",
       "      <th>1288769</th>\n",
       "      <td>1288769</td>\n",
       "      <td>Jinx</td>\n",
       "      <td>Tristana</td>\n",
       "      <td>0</td>\n",
       "    </tr>\n",
       "    <tr>\n",
       "      <th>1288770</th>\n",
       "      <td>1288770</td>\n",
       "      <td>Bard</td>\n",
       "      <td>Yuumi</td>\n",
       "      <td>0</td>\n",
       "    </tr>\n",
       "    <tr>\n",
       "      <th>1288771</th>\n",
       "      <td>1288771</td>\n",
       "      <td>Zac</td>\n",
       "      <td>Viego</td>\n",
       "      <td>1</td>\n",
       "    </tr>\n",
       "    <tr>\n",
       "      <th>1288772</th>\n",
       "      <td>1288772</td>\n",
       "      <td>Garen</td>\n",
       "      <td>Elise</td>\n",
       "      <td>0</td>\n",
       "    </tr>\n",
       "  </tbody>\n",
       "</table>\n",
       "</div>"
      ],
      "text/plain": [
       "         match_id  champ1      champ2  win\n",
       "1288763   1288763   Galio      Lucian    0\n",
       "1288764   1288764    Jhin       Kaisa    0\n",
       "1288765   1288765    Lulu  Blitzcrank    0\n",
       "1288766   1288766    Kayn     Hecarim    0\n",
       "1288767   1288767   Karma    Vladimir    0\n",
       "1288768   1288768  Xerath      Anivia    0\n",
       "1288769   1288769    Jinx    Tristana    0\n",
       "1288770   1288770    Bard       Yuumi    0\n",
       "1288771   1288771     Zac       Viego    1\n",
       "1288772   1288772   Garen       Elise    0"
      ]
     },
     "execution_count": 3,
     "metadata": {},
     "output_type": "execute_result"
    }
   ],
   "source": [
    "matchup.tail(10)"
   ]
  },
  {
   "cell_type": "code",
   "execution_count": 4,
   "id": "8d98da95",
   "metadata": {},
   "outputs": [
    {
     "name": "stdout",
     "output_type": "stream",
     "text": [
      "<class 'pandas.core.frame.DataFrame'>\n",
      "RangeIndex: 1288773 entries, 0 to 1288772\n",
      "Data columns (total 4 columns):\n",
      " #   Column    Non-Null Count    Dtype \n",
      "---  ------    --------------    ----- \n",
      " 0   match_id  1288773 non-null  int64 \n",
      " 1   champ1    1288773 non-null  object\n",
      " 2   champ2    1288773 non-null  object\n",
      " 3   win       1288773 non-null  int64 \n",
      "dtypes: int64(2), object(2)\n",
      "memory usage: 39.3+ MB\n"
     ]
    }
   ],
   "source": [
    "matchup.info()"
   ]
  },
  {
   "cell_type": "code",
   "execution_count": 5,
   "id": "63f47fd1",
   "metadata": {},
   "outputs": [
    {
     "data": {
      "text/html": [
       "<div>\n",
       "<style scoped>\n",
       "    .dataframe tbody tr th:only-of-type {\n",
       "        vertical-align: middle;\n",
       "    }\n",
       "\n",
       "    .dataframe tbody tr th {\n",
       "        vertical-align: top;\n",
       "    }\n",
       "\n",
       "    .dataframe thead th {\n",
       "        text-align: right;\n",
       "    }\n",
       "</style>\n",
       "<table border=\"1\" class=\"dataframe\">\n",
       "  <thead>\n",
       "    <tr style=\"text-align: right;\">\n",
       "      <th></th>\n",
       "      <th>Name</th>\n",
       "      <th>Class</th>\n",
       "      <th>Role</th>\n",
       "      <th>Tier</th>\n",
       "      <th>Score</th>\n",
       "      <th>Trend</th>\n",
       "      <th>Win %</th>\n",
       "      <th>Role %</th>\n",
       "      <th>Pick %</th>\n",
       "      <th>Ban %</th>\n",
       "      <th>KDA</th>\n",
       "    </tr>\n",
       "  </thead>\n",
       "  <tbody>\n",
       "    <tr>\n",
       "      <th>0</th>\n",
       "      <td>Aatrox</td>\n",
       "      <td>Fighter</td>\n",
       "      <td>TOP</td>\n",
       "      <td>S</td>\n",
       "      <td>57.63</td>\n",
       "      <td>-31.86</td>\n",
       "      <td>47.68%</td>\n",
       "      <td>91.63%</td>\n",
       "      <td>6.62%</td>\n",
       "      <td>11.98%</td>\n",
       "      <td>1.77</td>\n",
       "    </tr>\n",
       "    <tr>\n",
       "      <th>1</th>\n",
       "      <td>Ahri</td>\n",
       "      <td>Mage</td>\n",
       "      <td>MID</td>\n",
       "      <td>S</td>\n",
       "      <td>57.18</td>\n",
       "      <td>4.55</td>\n",
       "      <td>49.50%</td>\n",
       "      <td>94.65%</td>\n",
       "      <td>5.81%</td>\n",
       "      <td>1.73%</td>\n",
       "      <td>2.58</td>\n",
       "    </tr>\n",
       "    <tr>\n",
       "      <th>2</th>\n",
       "      <td>Akali</td>\n",
       "      <td>Assassin</td>\n",
       "      <td>MID</td>\n",
       "      <td>S</td>\n",
       "      <td>65.49</td>\n",
       "      <td>4.33</td>\n",
       "      <td>48.41%</td>\n",
       "      <td>75.74%</td>\n",
       "      <td>8.11%</td>\n",
       "      <td>13.02%</td>\n",
       "      <td>2.37</td>\n",
       "    </tr>\n",
       "    <tr>\n",
       "      <th>3</th>\n",
       "      <td>Akali</td>\n",
       "      <td>Assassin</td>\n",
       "      <td>TOP</td>\n",
       "      <td>C</td>\n",
       "      <td>39.63</td>\n",
       "      <td>-1.51</td>\n",
       "      <td>45.92%</td>\n",
       "      <td>23.50%</td>\n",
       "      <td>2.55%</td>\n",
       "      <td>13.02%</td>\n",
       "      <td>2.00</td>\n",
       "    </tr>\n",
       "    <tr>\n",
       "      <th>4</th>\n",
       "      <td>Akshan</td>\n",
       "      <td>Marksman</td>\n",
       "      <td>MID</td>\n",
       "      <td>A</td>\n",
       "      <td>49.39</td>\n",
       "      <td>0.34</td>\n",
       "      <td>51.62%</td>\n",
       "      <td>66.03%</td>\n",
       "      <td>2.75%</td>\n",
       "      <td>3.79%</td>\n",
       "      <td>2.26</td>\n",
       "    </tr>\n",
       "    <tr>\n",
       "      <th>5</th>\n",
       "      <td>Akshan</td>\n",
       "      <td>Marksman</td>\n",
       "      <td>TOP</td>\n",
       "      <td>B</td>\n",
       "      <td>44.58</td>\n",
       "      <td>2.61</td>\n",
       "      <td>51.69%</td>\n",
       "      <td>25.56%</td>\n",
       "      <td>1.01%</td>\n",
       "      <td>3.79%</td>\n",
       "      <td>2.00</td>\n",
       "    </tr>\n",
       "    <tr>\n",
       "      <th>6</th>\n",
       "      <td>Alistar</td>\n",
       "      <td>Tank</td>\n",
       "      <td>SUPPORT</td>\n",
       "      <td>B</td>\n",
       "      <td>43.21</td>\n",
       "      <td>-1.03</td>\n",
       "      <td>50.09%</td>\n",
       "      <td>95.95%</td>\n",
       "      <td>2.67%</td>\n",
       "      <td>0.60%</td>\n",
       "      <td>2.46</td>\n",
       "    </tr>\n",
       "    <tr>\n",
       "      <th>7</th>\n",
       "      <td>Amumu</td>\n",
       "      <td>Tank</td>\n",
       "      <td>JUNGLE</td>\n",
       "      <td>S</td>\n",
       "      <td>57.41</td>\n",
       "      <td>16.78</td>\n",
       "      <td>52.87%</td>\n",
       "      <td>49.07%</td>\n",
       "      <td>4.44%</td>\n",
       "      <td>5.20%</td>\n",
       "      <td>2.82</td>\n",
       "    </tr>\n",
       "    <tr>\n",
       "      <th>8</th>\n",
       "      <td>Amumu</td>\n",
       "      <td>Tank</td>\n",
       "      <td>SUPPORT</td>\n",
       "      <td>A</td>\n",
       "      <td>52.62</td>\n",
       "      <td>1.09</td>\n",
       "      <td>52.39%</td>\n",
       "      <td>50.05%</td>\n",
       "      <td>4.09%</td>\n",
       "      <td>5.20%</td>\n",
       "      <td>2.18</td>\n",
       "    </tr>\n",
       "    <tr>\n",
       "      <th>9</th>\n",
       "      <td>Anivia</td>\n",
       "      <td>Mage</td>\n",
       "      <td>MID</td>\n",
       "      <td>S</td>\n",
       "      <td>59.33</td>\n",
       "      <td>9.21</td>\n",
       "      <td>53.22%</td>\n",
       "      <td>86.04%</td>\n",
       "      <td>3.60%</td>\n",
       "      <td>3.56%</td>\n",
       "      <td>3.03</td>\n",
       "    </tr>\n",
       "  </tbody>\n",
       "</table>\n",
       "</div>"
      ],
      "text/plain": [
       "      Name     Class     Role Tier  Score  Trend   Win %  Role % Pick %  \\\n",
       "0   Aatrox   Fighter      TOP    S  57.63 -31.86  47.68%  91.63%  6.62%   \n",
       "1     Ahri      Mage      MID    S  57.18   4.55  49.50%  94.65%  5.81%   \n",
       "2    Akali  Assassin      MID    S  65.49   4.33  48.41%  75.74%  8.11%   \n",
       "3    Akali  Assassin      TOP    C  39.63  -1.51  45.92%  23.50%  2.55%   \n",
       "4   Akshan  Marksman      MID    A  49.39   0.34  51.62%  66.03%  2.75%   \n",
       "5   Akshan  Marksman      TOP    B  44.58   2.61  51.69%  25.56%  1.01%   \n",
       "6  Alistar      Tank  SUPPORT    B  43.21  -1.03  50.09%  95.95%  2.67%   \n",
       "7    Amumu      Tank   JUNGLE    S  57.41  16.78  52.87%  49.07%  4.44%   \n",
       "8    Amumu      Tank  SUPPORT    A  52.62   1.09  52.39%  50.05%  4.09%   \n",
       "9   Anivia      Mage      MID    S  59.33   9.21  53.22%  86.04%  3.60%   \n",
       "\n",
       "    Ban %   KDA  \n",
       "0  11.98%  1.77  \n",
       "1   1.73%  2.58  \n",
       "2  13.02%  2.37  \n",
       "3  13.02%  2.00  \n",
       "4   3.79%  2.26  \n",
       "5   3.79%  2.00  \n",
       "6   0.60%  2.46  \n",
       "7   5.20%  2.82  \n",
       "8   5.20%  2.18  \n",
       "9   3.56%  3.03  "
      ]
     },
     "execution_count": 5,
     "metadata": {},
     "output_type": "execute_result"
    }
   ],
   "source": [
    "stats.head(10)"
   ]
  },
  {
   "cell_type": "code",
   "execution_count": 6,
   "id": "9723f715",
   "metadata": {},
   "outputs": [
    {
     "name": "stdout",
     "output_type": "stream",
     "text": [
      "<class 'pandas.core.frame.DataFrame'>\n",
      "RangeIndex: 244 entries, 0 to 243\n",
      "Data columns (total 11 columns):\n",
      " #   Column  Non-Null Count  Dtype  \n",
      "---  ------  --------------  -----  \n",
      " 0   Name    244 non-null    object \n",
      " 1   Class   243 non-null    object \n",
      " 2   Role    244 non-null    object \n",
      " 3   Tier    244 non-null    object \n",
      " 4   Score   244 non-null    float64\n",
      " 5   Trend   244 non-null    float64\n",
      " 6   Win %   244 non-null    object \n",
      " 7   Role %  244 non-null    object \n",
      " 8   Pick %  244 non-null    object \n",
      " 9   Ban %   244 non-null    object \n",
      " 10  KDA     244 non-null    float64\n",
      "dtypes: float64(3), object(8)\n",
      "memory usage: 21.1+ KB\n"
     ]
    }
   ],
   "source": [
    "stats.info()"
   ]
  },
  {
   "cell_type": "code",
   "execution_count": 7,
   "id": "d3b2fdcc",
   "metadata": {},
   "outputs": [
    {
     "data": {
      "text/plain": [
       "0"
      ]
     },
     "execution_count": 7,
     "metadata": {},
     "output_type": "execute_result"
    }
   ],
   "source": [
    "matchup.duplicated().sum()"
   ]
  },
  {
   "cell_type": "code",
   "execution_count": 8,
   "id": "23aa57c4",
   "metadata": {},
   "outputs": [
    {
     "data": {
      "text/plain": [
       "0"
      ]
     },
     "execution_count": 8,
     "metadata": {},
     "output_type": "execute_result"
    }
   ],
   "source": [
    "stats.duplicated().sum()"
   ]
  },
  {
   "cell_type": "markdown",
   "id": "0ad0f7d8",
   "metadata": {},
   "source": [
    "## Предобработка данных"
   ]
  },
  {
   "cell_type": "code",
   "execution_count": 9,
   "id": "27a58f82",
   "metadata": {},
   "outputs": [],
   "source": [
    "stats.columns = stats.columns.str.lower()"
   ]
  },
  {
   "cell_type": "code",
   "execution_count": 10,
   "id": "4b5fb987",
   "metadata": {},
   "outputs": [],
   "source": [
    "stats = stats.rename(columns={'win %':'win', 'role %':'popularity', \n",
    "                                     'pick %':'pick', 'ban %':'ban'})"
   ]
  },
  {
   "cell_type": "code",
   "execution_count": 11,
   "id": "029a4e6b",
   "metadata": {},
   "outputs": [
    {
     "data": {
      "text/html": [
       "<div>\n",
       "<style scoped>\n",
       "    .dataframe tbody tr th:only-of-type {\n",
       "        vertical-align: middle;\n",
       "    }\n",
       "\n",
       "    .dataframe tbody tr th {\n",
       "        vertical-align: top;\n",
       "    }\n",
       "\n",
       "    .dataframe thead th {\n",
       "        text-align: right;\n",
       "    }\n",
       "</style>\n",
       "<table border=\"1\" class=\"dataframe\">\n",
       "  <thead>\n",
       "    <tr style=\"text-align: right;\">\n",
       "      <th></th>\n",
       "      <th>name</th>\n",
       "      <th>class</th>\n",
       "      <th>role</th>\n",
       "      <th>tier</th>\n",
       "      <th>score</th>\n",
       "      <th>trend</th>\n",
       "      <th>win</th>\n",
       "      <th>popularity</th>\n",
       "      <th>pick</th>\n",
       "      <th>ban</th>\n",
       "      <th>kda</th>\n",
       "    </tr>\n",
       "  </thead>\n",
       "  <tbody>\n",
       "    <tr>\n",
       "      <th>71</th>\n",
       "      <td>K'Sante</td>\n",
       "      <td>NaN</td>\n",
       "      <td>TOP</td>\n",
       "      <td>S</td>\n",
       "      <td>62.32</td>\n",
       "      <td>-15.1</td>\n",
       "      <td>47.52%</td>\n",
       "      <td>93.24%</td>\n",
       "      <td>7.24%</td>\n",
       "      <td>15.11%</td>\n",
       "      <td>1.97</td>\n",
       "    </tr>\n",
       "  </tbody>\n",
       "</table>\n",
       "</div>"
      ],
      "text/plain": [
       "       name class role tier  score  trend     win popularity   pick     ban  \\\n",
       "71  K'Sante   NaN  TOP    S  62.32  -15.1  47.52%     93.24%  7.24%  15.11%   \n",
       "\n",
       "     kda  \n",
       "71  1.97  "
      ]
     },
     "execution_count": 11,
     "metadata": {},
     "output_type": "execute_result"
    }
   ],
   "source": [
    "null_data = stats[stats.isnull().any(axis=1)]\n",
    "null_data"
   ]
  },
  {
   "cell_type": "markdown",
   "id": "7f6bd2eb",
   "metadata": {},
   "source": [
    "Имеется единственный пропуск в таблице. Видимо KSante не смогли определить класс, поскольку он вышел недавно и его геймплей можно отнести сразу к двум классам. Заполним значение на \"танк\", оно более подходящее."
   ]
  },
  {
   "cell_type": "code",
   "execution_count": 12,
   "id": "a0136c35",
   "metadata": {},
   "outputs": [],
   "source": [
    "stats = stats.fillna('Tank')"
   ]
  },
  {
   "cell_type": "code",
   "execution_count": 13,
   "id": "c6f6fb38",
   "metadata": {},
   "outputs": [
    {
     "data": {
      "text/plain": [
       "name           object\n",
       "class          object\n",
       "role           object\n",
       "tier           object\n",
       "score         float64\n",
       "trend         float64\n",
       "win            object\n",
       "popularity     object\n",
       "pick           object\n",
       "ban            object\n",
       "kda           float64\n",
       "dtype: object"
      ]
     },
     "execution_count": 13,
     "metadata": {},
     "output_type": "execute_result"
    }
   ],
   "source": [
    "stats.astype({'role': 'str'}).dtypes"
   ]
  },
  {
   "cell_type": "code",
   "execution_count": 14,
   "id": "b5c9d002",
   "metadata": {},
   "outputs": [],
   "source": [
    "stats['win'] = stats['win'].str.replace('%', '')\n",
    "stats['pick'] = stats['pick'].str.replace('%', '')\n",
    "stats['ban'] = stats['ban'].str.replace('%', '')\n",
    "stats['popularity'] = stats['popularity'].str.replace('%', '')"
   ]
  },
  {
   "cell_type": "code",
   "execution_count": 15,
   "id": "30f2527e",
   "metadata": {},
   "outputs": [],
   "source": [
    "stats['win'] = stats['win'].astype(float)\n",
    "stats['pick'] = stats['pick'].astype(float)\n",
    "stats['ban'] = stats['ban'].astype(float)\n",
    "stats['popularity'] = stats['popularity'].astype(float)"
   ]
  },
  {
   "cell_type": "code",
   "execution_count": 16,
   "id": "9328c55f",
   "metadata": {},
   "outputs": [],
   "source": [
    "matchup = matchup.drop('match_id', axis = 1)"
   ]
  },
  {
   "cell_type": "code",
   "execution_count": 31,
   "id": "61d8cbbf",
   "metadata": {},
   "outputs": [
    {
     "name": "stdout",
     "output_type": "stream",
     "text": [
      "<class 'pandas.core.frame.DataFrame'>\n",
      "RangeIndex: 1288773 entries, 0 to 1288772\n",
      "Data columns (total 3 columns):\n",
      " #   Column  Non-Null Count    Dtype \n",
      "---  ------  --------------    ----- \n",
      " 0   champ1  1288773 non-null  object\n",
      " 1   champ2  1288773 non-null  object\n",
      " 2   win     1288773 non-null  int8  \n",
      "dtypes: int8(1), object(2)\n",
      "memory usage: 20.9+ MB\n"
     ]
    }
   ],
   "source": [
    "matchup['win'] = matchup['win'].astype('int8')\n",
    "matchup.info()"
   ]
  },
  {
   "cell_type": "markdown",
   "id": "826faabf",
   "metadata": {},
   "source": [
    "Для уменьшения объема данных изменим тип данных на более низкий по количеству знаков. Все рано у нас в таблице только 1 и 0."
   ]
  },
  {
   "cell_type": "markdown",
   "id": "96f04fbd",
   "metadata": {},
   "source": [
    "## Анализ данных"
   ]
  },
  {
   "cell_type": "markdown",
   "id": "35f226c7",
   "metadata": {},
   "source": [
    "### Статистика"
   ]
  },
  {
   "cell_type": "code",
   "execution_count": 18,
   "id": "50304fa6",
   "metadata": {},
   "outputs": [
    {
     "data": {
      "text/html": [
       "<div>\n",
       "<style scoped>\n",
       "    .dataframe tbody tr th:only-of-type {\n",
       "        vertical-align: middle;\n",
       "    }\n",
       "\n",
       "    .dataframe tbody tr th {\n",
       "        vertical-align: top;\n",
       "    }\n",
       "\n",
       "    .dataframe thead th {\n",
       "        text-align: right;\n",
       "    }\n",
       "</style>\n",
       "<table border=\"1\" class=\"dataframe\">\n",
       "  <thead>\n",
       "    <tr style=\"text-align: right;\">\n",
       "      <th></th>\n",
       "      <th>tier</th>\n",
       "      <th>win</th>\n",
       "    </tr>\n",
       "  </thead>\n",
       "  <tbody>\n",
       "    <tr>\n",
       "      <th>4</th>\n",
       "      <td>God</td>\n",
       "      <td>50.79</td>\n",
       "    </tr>\n",
       "    <tr>\n",
       "      <th>0</th>\n",
       "      <td>A</td>\n",
       "      <td>50.79</td>\n",
       "    </tr>\n",
       "    <tr>\n",
       "      <th>1</th>\n",
       "      <td>B</td>\n",
       "      <td>50.71</td>\n",
       "    </tr>\n",
       "    <tr>\n",
       "      <th>5</th>\n",
       "      <td>S</td>\n",
       "      <td>50.21</td>\n",
       "    </tr>\n",
       "    <tr>\n",
       "      <th>2</th>\n",
       "      <td>C</td>\n",
       "      <td>49.77</td>\n",
       "    </tr>\n",
       "    <tr>\n",
       "      <th>3</th>\n",
       "      <td>D</td>\n",
       "      <td>47.90</td>\n",
       "    </tr>\n",
       "  </tbody>\n",
       "</table>\n",
       "</div>"
      ],
      "text/plain": [
       "  tier    win\n",
       "4  God  50.79\n",
       "0    A  50.79\n",
       "1    B  50.71\n",
       "5    S  50.21\n",
       "2    C  49.77\n",
       "3    D  47.90"
      ]
     },
     "execution_count": 18,
     "metadata": {},
     "output_type": "execute_result"
    }
   ],
   "source": [
    "round(stats.groupby('tier')['win'].mean().reset_index().sort_values(by='win',ascending=False),2)"
   ]
  },
  {
   "cell_type": "markdown",
   "id": "1e2f0460",
   "metadata": {},
   "source": [
    "Сразу хочется отметить, что не стоит ориентироваться на тир чемпиона. Как мы видим общий средний винрейт S тира находится ниже тиров А и В. Скорее всего это связано с популярностью этих чампионов, а чем популярнее герой, тем больше вероятность, что на нем играет новичек или не опытный игрок."
   ]
  },
  {
   "cell_type": "code",
   "execution_count": 19,
   "id": "fc188edc",
   "metadata": {},
   "outputs": [
    {
     "data": {
      "text/html": [
       "<div>\n",
       "<style scoped>\n",
       "    .dataframe tbody tr th:only-of-type {\n",
       "        vertical-align: middle;\n",
       "    }\n",
       "\n",
       "    .dataframe tbody tr th {\n",
       "        vertical-align: top;\n",
       "    }\n",
       "\n",
       "    .dataframe thead th {\n",
       "        text-align: right;\n",
       "    }\n",
       "</style>\n",
       "<table border=\"1\" class=\"dataframe\">\n",
       "  <thead>\n",
       "    <tr style=\"text-align: right;\">\n",
       "      <th></th>\n",
       "      <th>role</th>\n",
       "      <th>win</th>\n",
       "    </tr>\n",
       "  </thead>\n",
       "  <tbody>\n",
       "    <tr>\n",
       "      <th>2</th>\n",
       "      <td>MID</td>\n",
       "      <td>50.66</td>\n",
       "    </tr>\n",
       "    <tr>\n",
       "      <th>0</th>\n",
       "      <td>ADC</td>\n",
       "      <td>50.58</td>\n",
       "    </tr>\n",
       "    <tr>\n",
       "      <th>4</th>\n",
       "      <td>TOP</td>\n",
       "      <td>50.14</td>\n",
       "    </tr>\n",
       "    <tr>\n",
       "      <th>3</th>\n",
       "      <td>SUPPORT</td>\n",
       "      <td>50.00</td>\n",
       "    </tr>\n",
       "    <tr>\n",
       "      <th>1</th>\n",
       "      <td>JUNGLE</td>\n",
       "      <td>49.81</td>\n",
       "    </tr>\n",
       "  </tbody>\n",
       "</table>\n",
       "</div>"
      ],
      "text/plain": [
       "      role    win\n",
       "2      MID  50.66\n",
       "0      ADC  50.58\n",
       "4      TOP  50.14\n",
       "3  SUPPORT  50.00\n",
       "1   JUNGLE  49.81"
      ]
     },
     "execution_count": 19,
     "metadata": {},
     "output_type": "execute_result"
    }
   ],
   "source": [
    "round(stats.groupby('role')['win'].mean().reset_index().sort_values(by='win',ascending=False),2)"
   ]
  },
  {
   "cell_type": "code",
   "execution_count": 20,
   "id": "b5cdc32e",
   "metadata": {},
   "outputs": [
    {
     "data": {
      "text/html": [
       "<div>\n",
       "<style scoped>\n",
       "    .dataframe tbody tr th:only-of-type {\n",
       "        vertical-align: middle;\n",
       "    }\n",
       "\n",
       "    .dataframe tbody tr th {\n",
       "        vertical-align: top;\n",
       "    }\n",
       "\n",
       "    .dataframe thead th {\n",
       "        text-align: right;\n",
       "    }\n",
       "</style>\n",
       "<table border=\"1\" class=\"dataframe\">\n",
       "  <thead>\n",
       "    <tr style=\"text-align: right;\">\n",
       "      <th></th>\n",
       "      <th>role</th>\n",
       "      <th>win</th>\n",
       "    </tr>\n",
       "  </thead>\n",
       "  <tbody>\n",
       "    <tr>\n",
       "      <th>2</th>\n",
       "      <td>MID</td>\n",
       "      <td>50.60</td>\n",
       "    </tr>\n",
       "    <tr>\n",
       "      <th>0</th>\n",
       "      <td>ADC</td>\n",
       "      <td>50.40</td>\n",
       "    </tr>\n",
       "    <tr>\n",
       "      <th>4</th>\n",
       "      <td>TOP</td>\n",
       "      <td>50.26</td>\n",
       "    </tr>\n",
       "    <tr>\n",
       "      <th>3</th>\n",
       "      <td>SUPPORT</td>\n",
       "      <td>50.11</td>\n",
       "    </tr>\n",
       "    <tr>\n",
       "      <th>1</th>\n",
       "      <td>JUNGLE</td>\n",
       "      <td>49.82</td>\n",
       "    </tr>\n",
       "  </tbody>\n",
       "</table>\n",
       "</div>"
      ],
      "text/plain": [
       "      role    win\n",
       "2      MID  50.60\n",
       "0      ADC  50.40\n",
       "4      TOP  50.26\n",
       "3  SUPPORT  50.11\n",
       "1   JUNGLE  49.82"
      ]
     },
     "execution_count": 20,
     "metadata": {},
     "output_type": "execute_result"
    }
   ],
   "source": [
    "round(stats.groupby('role')['win'].median().reset_index().sort_values(by='win',ascending=False),2)"
   ]
  },
  {
   "cell_type": "markdown",
   "id": "104c5608",
   "metadata": {},
   "source": [
    "Как по среднему, так и по медианному значению в лидерах линии: mid и adc. Стоит отталкиваться от одиночных линий, которые имеют больше всего влияния на игру. Позиция adc, как и support сильно зависит он напарника по линии, а top меньше всего времени взаимодействует с командой. Jungle имеет самый низкий винрейт из-за своей сложности. Поэтому далее все вниманию стоит уделить линии mid. Для игры одному - это лучший выбор."
   ]
  },
  {
   "cell_type": "code",
   "execution_count": 21,
   "id": "6beb9eb7",
   "metadata": {},
   "outputs": [
    {
     "data": {
      "text/html": [
       "<div>\n",
       "<style scoped>\n",
       "    .dataframe tbody tr th:only-of-type {\n",
       "        vertical-align: middle;\n",
       "    }\n",
       "\n",
       "    .dataframe tbody tr th {\n",
       "        vertical-align: top;\n",
       "    }\n",
       "\n",
       "    .dataframe thead th {\n",
       "        text-align: right;\n",
       "    }\n",
       "</style>\n",
       "<table border=\"1\" class=\"dataframe\">\n",
       "  <thead>\n",
       "    <tr style=\"text-align: right;\">\n",
       "      <th></th>\n",
       "      <th>role</th>\n",
       "      <th>class</th>\n",
       "      <th>win</th>\n",
       "    </tr>\n",
       "  </thead>\n",
       "  <tbody>\n",
       "    <tr>\n",
       "      <th>13</th>\n",
       "      <td>MID</td>\n",
       "      <td>Support</td>\n",
       "      <td>53.33</td>\n",
       "    </tr>\n",
       "    <tr>\n",
       "      <th>14</th>\n",
       "      <td>MID</td>\n",
       "      <td>Tank</td>\n",
       "      <td>52.82</td>\n",
       "    </tr>\n",
       "    <tr>\n",
       "      <th>10</th>\n",
       "      <td>MID</td>\n",
       "      <td>Fighter</td>\n",
       "      <td>51.55</td>\n",
       "    </tr>\n",
       "    <tr>\n",
       "      <th>11</th>\n",
       "      <td>MID</td>\n",
       "      <td>Mage</td>\n",
       "      <td>50.41</td>\n",
       "    </tr>\n",
       "    <tr>\n",
       "      <th>12</th>\n",
       "      <td>MID</td>\n",
       "      <td>Marksman</td>\n",
       "      <td>50.39</td>\n",
       "    </tr>\n",
       "  </tbody>\n",
       "</table>\n",
       "</div>"
      ],
      "text/plain": [
       "   role     class    win\n",
       "13  MID   Support  53.33\n",
       "14  MID      Tank  52.82\n",
       "10  MID   Fighter  51.55\n",
       "11  MID      Mage  50.41\n",
       "12  MID  Marksman  50.39"
      ]
     },
     "execution_count": 21,
     "metadata": {},
     "output_type": "execute_result"
    }
   ],
   "source": [
    "top_role_class = round(stats.groupby(['role','class'])['win'].mean().reset_index().sort_values(by='win',ascending=False),2)\n",
    "top_role_class = top_role_class[top_role_class['role']=='MID']\n",
    "top_role_class.head()"
   ]
  },
  {
   "cell_type": "markdown",
   "id": "3fcdfaa7",
   "metadata": {},
   "source": [
    "В патче 13.1 самый высокий винрейт на mid у класса support и tank."
   ]
  },
  {
   "cell_type": "code",
   "execution_count": 42,
   "id": "fc7a7e27",
   "metadata": {},
   "outputs": [
    {
     "data": {
      "text/html": [
       "<div>\n",
       "<style scoped>\n",
       "    .dataframe tbody tr th:only-of-type {\n",
       "        vertical-align: middle;\n",
       "    }\n",
       "\n",
       "    .dataframe tbody tr th {\n",
       "        vertical-align: top;\n",
       "    }\n",
       "\n",
       "    .dataframe thead th {\n",
       "        text-align: right;\n",
       "    }\n",
       "</style>\n",
       "<table border=\"1\" class=\"dataframe\">\n",
       "  <thead>\n",
       "    <tr style=\"text-align: right;\">\n",
       "      <th></th>\n",
       "      <th>role</th>\n",
       "      <th>name</th>\n",
       "      <th>class</th>\n",
       "      <th>win</th>\n",
       "    </tr>\n",
       "  </thead>\n",
       "  <tbody>\n",
       "    <tr>\n",
       "      <th>117</th>\n",
       "      <td>MID</td>\n",
       "      <td>Singed</td>\n",
       "      <td>Tank</td>\n",
       "      <td>55.15</td>\n",
       "    </tr>\n",
       "    <tr>\n",
       "      <th>45</th>\n",
       "      <td>JUNGLE</td>\n",
       "      <td>Maokai</td>\n",
       "      <td>Tank</td>\n",
       "      <td>54.31</td>\n",
       "    </tr>\n",
       "    <tr>\n",
       "      <th>101</th>\n",
       "      <td>MID</td>\n",
       "      <td>Kled</td>\n",
       "      <td>Fighter</td>\n",
       "      <td>53.93</td>\n",
       "    </tr>\n",
       "    <tr>\n",
       "      <th>107</th>\n",
       "      <td>MID</td>\n",
       "      <td>Nasus</td>\n",
       "      <td>Fighter</td>\n",
       "      <td>53.66</td>\n",
       "    </tr>\n",
       "    <tr>\n",
       "      <th>137</th>\n",
       "      <td>MID</td>\n",
       "      <td>Zilean</td>\n",
       "      <td>Support</td>\n",
       "      <td>53.33</td>\n",
       "    </tr>\n",
       "    <tr>\n",
       "      <th>9</th>\n",
       "      <td>ADC</td>\n",
       "      <td>Karthus</td>\n",
       "      <td>Mage</td>\n",
       "      <td>53.28</td>\n",
       "    </tr>\n",
       "    <tr>\n",
       "      <th>216</th>\n",
       "      <td>TOP</td>\n",
       "      <td>Quinn</td>\n",
       "      <td>Marksman</td>\n",
       "      <td>53.27</td>\n",
       "    </tr>\n",
       "    <tr>\n",
       "      <th>243</th>\n",
       "      <td>TOP</td>\n",
       "      <td>Zac</td>\n",
       "      <td>Tank</td>\n",
       "      <td>53.24</td>\n",
       "    </tr>\n",
       "    <tr>\n",
       "      <th>78</th>\n",
       "      <td>MID</td>\n",
       "      <td>Anivia</td>\n",
       "      <td>Mage</td>\n",
       "      <td>53.22</td>\n",
       "    </tr>\n",
       "    <tr>\n",
       "      <th>84</th>\n",
       "      <td>MID</td>\n",
       "      <td>Cho'Gath</td>\n",
       "      <td>Tank</td>\n",
       "      <td>53.13</td>\n",
       "    </tr>\n",
       "  </tbody>\n",
       "</table>\n",
       "</div>"
      ],
      "text/plain": [
       "       role      name     class    win\n",
       "117     MID    Singed      Tank  55.15\n",
       "45   JUNGLE    Maokai      Tank  54.31\n",
       "101     MID      Kled   Fighter  53.93\n",
       "107     MID     Nasus   Fighter  53.66\n",
       "137     MID    Zilean   Support  53.33\n",
       "9       ADC   Karthus      Mage  53.28\n",
       "216     TOP     Quinn  Marksman  53.27\n",
       "243     TOP       Zac      Tank  53.24\n",
       "78      MID    Anivia      Mage  53.22\n",
       "84      MID  Cho'Gath      Tank  53.13"
      ]
     },
     "execution_count": 42,
     "metadata": {},
     "output_type": "execute_result"
    }
   ],
   "source": [
    "top_champs = round(stats.groupby(['role','name', 'class'])['win'].mean().reset_index().sort_values(by='win',ascending=False),2)\n",
    "top_champs.head(10)"
   ]
  },
  {
   "cell_type": "markdown",
   "id": "1e35fdf1",
   "metadata": {},
   "source": [
    "Лучшие легенды по показателю побед: Singed 53.30, Anivia 53.22, Sona 53.03. \n",
    "Важно заметить, что из магов в списке только Anivia."
   ]
  },
  {
   "cell_type": "code",
   "execution_count": 22,
   "id": "6b338f33",
   "metadata": {},
   "outputs": [
    {
     "data": {
      "text/html": [
       "<div>\n",
       "<style scoped>\n",
       "    .dataframe tbody tr th:only-of-type {\n",
       "        vertical-align: middle;\n",
       "    }\n",
       "\n",
       "    .dataframe tbody tr th {\n",
       "        vertical-align: top;\n",
       "    }\n",
       "\n",
       "    .dataframe thead th {\n",
       "        text-align: right;\n",
       "    }\n",
       "</style>\n",
       "<table border=\"1\" class=\"dataframe\">\n",
       "  <thead>\n",
       "    <tr style=\"text-align: right;\">\n",
       "      <th></th>\n",
       "      <th>role</th>\n",
       "      <th>name</th>\n",
       "      <th>win</th>\n",
       "    </tr>\n",
       "  </thead>\n",
       "  <tbody>\n",
       "    <tr>\n",
       "      <th>117</th>\n",
       "      <td>MID</td>\n",
       "      <td>Singed</td>\n",
       "      <td>55.15</td>\n",
       "    </tr>\n",
       "    <tr>\n",
       "      <th>101</th>\n",
       "      <td>MID</td>\n",
       "      <td>Kled</td>\n",
       "      <td>53.93</td>\n",
       "    </tr>\n",
       "    <tr>\n",
       "      <th>107</th>\n",
       "      <td>MID</td>\n",
       "      <td>Nasus</td>\n",
       "      <td>53.66</td>\n",
       "    </tr>\n",
       "    <tr>\n",
       "      <th>137</th>\n",
       "      <td>MID</td>\n",
       "      <td>Zilean</td>\n",
       "      <td>53.33</td>\n",
       "    </tr>\n",
       "    <tr>\n",
       "      <th>78</th>\n",
       "      <td>MID</td>\n",
       "      <td>Anivia</td>\n",
       "      <td>53.22</td>\n",
       "    </tr>\n",
       "    <tr>\n",
       "      <th>84</th>\n",
       "      <td>MID</td>\n",
       "      <td>Cho'Gath</td>\n",
       "      <td>53.13</td>\n",
       "    </tr>\n",
       "    <tr>\n",
       "      <th>94</th>\n",
       "      <td>MID</td>\n",
       "      <td>Jayce</td>\n",
       "      <td>53.03</td>\n",
       "    </tr>\n",
       "    <tr>\n",
       "      <th>123</th>\n",
       "      <td>MID</td>\n",
       "      <td>Tristana</td>\n",
       "      <td>52.62</td>\n",
       "    </tr>\n",
       "    <tr>\n",
       "      <th>91</th>\n",
       "      <td>MID</td>\n",
       "      <td>Gragas</td>\n",
       "      <td>52.46</td>\n",
       "    </tr>\n",
       "    <tr>\n",
       "      <th>118</th>\n",
       "      <td>MID</td>\n",
       "      <td>Swain</td>\n",
       "      <td>52.37</td>\n",
       "    </tr>\n",
       "  </tbody>\n",
       "</table>\n",
       "</div>"
      ],
      "text/plain": [
       "    role      name    win\n",
       "117  MID    Singed  55.15\n",
       "101  MID      Kled  53.93\n",
       "107  MID     Nasus  53.66\n",
       "137  MID    Zilean  53.33\n",
       "78   MID    Anivia  53.22\n",
       "84   MID  Cho'Gath  53.13\n",
       "94   MID     Jayce  53.03\n",
       "123  MID  Tristana  52.62\n",
       "91   MID    Gragas  52.46\n",
       "118  MID     Swain  52.37"
      ]
     },
     "execution_count": 22,
     "metadata": {},
     "output_type": "execute_result"
    }
   ],
   "source": [
    "top_miders = round(stats.groupby(['role','name'])['win'].mean().reset_index().sort_values(by='win',ascending=False),2)\n",
    "top_miders = top_miders[top_miders['role']=='MID']\n",
    "top_miders.head(10)"
   ]
  },
  {
   "cell_type": "code",
   "execution_count": 33,
   "id": "7c7eb792",
   "metadata": {},
   "outputs": [
    {
     "data": {
      "text/html": [
       "<div>\n",
       "<style scoped>\n",
       "    .dataframe tbody tr th:only-of-type {\n",
       "        vertical-align: middle;\n",
       "    }\n",
       "\n",
       "    .dataframe tbody tr th {\n",
       "        vertical-align: top;\n",
       "    }\n",
       "\n",
       "    .dataframe thead th {\n",
       "        text-align: right;\n",
       "    }\n",
       "</style>\n",
       "<table border=\"1\" class=\"dataframe\">\n",
       "  <thead>\n",
       "    <tr style=\"text-align: right;\">\n",
       "      <th></th>\n",
       "      <th>name</th>\n",
       "      <th>class</th>\n",
       "      <th>role</th>\n",
       "      <th>tier</th>\n",
       "      <th>score</th>\n",
       "      <th>trend</th>\n",
       "      <th>win</th>\n",
       "      <th>popularity</th>\n",
       "      <th>pick</th>\n",
       "      <th>ban</th>\n",
       "      <th>kda</th>\n",
       "    </tr>\n",
       "  </thead>\n",
       "  <tbody>\n",
       "    <tr>\n",
       "      <th>166</th>\n",
       "      <td>Singed</td>\n",
       "      <td>Tank</td>\n",
       "      <td>MID</td>\n",
       "      <td>A</td>\n",
       "      <td>51.22</td>\n",
       "      <td>-7.41</td>\n",
       "      <td>55.15</td>\n",
       "      <td>19.51</td>\n",
       "      <td>0.50</td>\n",
       "      <td>0.61</td>\n",
       "      <td>2.83</td>\n",
       "    </tr>\n",
       "    <tr>\n",
       "      <th>167</th>\n",
       "      <td>Singed</td>\n",
       "      <td>Tank</td>\n",
       "      <td>TOP</td>\n",
       "      <td>B</td>\n",
       "      <td>47.15</td>\n",
       "      <td>-0.50</td>\n",
       "      <td>51.45</td>\n",
       "      <td>69.62</td>\n",
       "      <td>1.88</td>\n",
       "      <td>0.61</td>\n",
       "      <td>2.03</td>\n",
       "    </tr>\n",
       "  </tbody>\n",
       "</table>\n",
       "</div>"
      ],
      "text/plain": [
       "       name class role tier  score  trend    win  popularity  pick   ban   kda\n",
       "166  Singed  Tank  MID    A  51.22  -7.41  55.15       19.51  0.50  0.61  2.83\n",
       "167  Singed  Tank  TOP    B  47.15  -0.50  51.45       69.62  1.88  0.61  2.03"
      ]
     },
     "execution_count": 33,
     "metadata": {},
     "output_type": "execute_result"
    }
   ],
   "source": [
    "stats[stats['name'] == 'Singed']"
   ]
  },
  {
   "cell_type": "markdown",
   "id": "6710c5ff",
   "metadata": {},
   "source": [
    "Лучшие герои довольно нетипичный выбор на данную линию. Причем стоит отметить, что за исключением некоторый все герои довольно затанкованные. Если иметь возможность наиграть определенного чемпиона, то определенно стоит выбирать Singed. Он имеет низкий ban и pick, что также поможет безприпятственно брать его в каждую игру. Еще стоит отметить, что многие игроки не будут ожидать его против себя на позиции mid и не знают как против него играть.\n",
    "\n"
   ]
  },
  {
   "cell_type": "markdown",
   "id": "145ed47d",
   "metadata": {},
   "source": [
    "### Матчапы"
   ]
  },
  {
   "cell_type": "code",
   "execution_count": 23,
   "id": "345adf68",
   "metadata": {},
   "outputs": [],
   "source": [
    "def champ_winrate(champion):\n",
    "    '''\n",
    "    Функция показывает винрейт чемпиона против всех героев\n",
    "    '''\n",
    "    champ_games = matchup.query('champ1 == @champion or champ2 == @champion')\n",
    "    champ_wins = matchup.query('(champ1 == @champion and win == 1) or (champ2 == @champion and win == 0)')\n",
    "    print(champion, 'all matchaps winrate:')\n",
    "    return round(len(champ_wins) / len(champ_games) * 100,2)    "
   ]
  },
  {
   "cell_type": "code",
   "execution_count": 24,
   "id": "b32e5ab9",
   "metadata": {},
   "outputs": [
    {
     "name": "stdout",
     "output_type": "stream",
     "text": [
      "Singed all matchaps winrate:\n"
     ]
    },
    {
     "data": {
      "text/plain": [
       "50.53"
      ]
     },
     "execution_count": 24,
     "metadata": {},
     "output_type": "execute_result"
    }
   ],
   "source": [
    "champ_winrate('Singed')"
   ]
  },
  {
   "cell_type": "markdown",
   "id": "efbe3c2c",
   "metadata": {},
   "source": [
    "Среди всех матчапов 1 на 1 Singed имеет винрейт больше 50%"
   ]
  },
  {
   "cell_type": "code",
   "execution_count": 25,
   "id": "8bb4eb76",
   "metadata": {},
   "outputs": [],
   "source": [
    "def matchaps(your_champion, your_opponent):\n",
    "    '''\n",
    "    Функция показывает винрейт чемпиона против конкретного героя\n",
    "    '''\n",
    "    champs_games = matchup.query('(champ1 == @your_champion and champ2 == @your_opponent) \\\n",
    "    or (champ2 == @your_champion and champ1 == @your_opponent)')\n",
    "    \n",
    "    champ_1_wins = matchup.query('(champ1 == @your_champion and champ2 == @your_opponent and win == 1) \\\n",
    "    or (champ2 == @your_champion and champ1 == @your_opponent and win == 0)')\n",
    "    \n",
    "    print(your_champion,'against',your_opponent, 'winrate:')\n",
    "    return round(len(champ_1_wins) / len(champs_games) * 100,2)    "
   ]
  },
  {
   "cell_type": "markdown",
   "id": "fba047fa",
   "metadata": {},
   "source": [
    "Рассмотрим матчапы Singed против других чампионов на позиции mid в этом патче, с самым высоким винрейтом."
   ]
  },
  {
   "cell_type": "code",
   "execution_count": 26,
   "id": "5fba9374",
   "metadata": {},
   "outputs": [
    {
     "name": "stdout",
     "output_type": "stream",
     "text": [
      "Singed against Zilean winrate:\n"
     ]
    },
    {
     "data": {
      "text/plain": [
       "20.0"
      ]
     },
     "execution_count": 26,
     "metadata": {},
     "output_type": "execute_result"
    }
   ],
   "source": [
    "matchaps('Singed', 'Zilean')"
   ]
  },
  {
   "cell_type": "code",
   "execution_count": 34,
   "id": "d51562c5",
   "metadata": {},
   "outputs": [
    {
     "name": "stdout",
     "output_type": "stream",
     "text": [
      "Singed against Kled winrate:\n"
     ]
    },
    {
     "data": {
      "text/plain": [
       "55.13"
      ]
     },
     "execution_count": 34,
     "metadata": {},
     "output_type": "execute_result"
    }
   ],
   "source": [
    "matchaps('Singed', 'Kled')"
   ]
  },
  {
   "cell_type": "code",
   "execution_count": 35,
   "id": "a80b36d9",
   "metadata": {},
   "outputs": [
    {
     "name": "stdout",
     "output_type": "stream",
     "text": [
      "Singed against Nasus winrate:\n"
     ]
    },
    {
     "data": {
      "text/plain": [
       "51.39"
      ]
     },
     "execution_count": 35,
     "metadata": {},
     "output_type": "execute_result"
    }
   ],
   "source": [
    "matchaps('Singed', 'Nasus')"
   ]
  },
  {
   "cell_type": "code",
   "execution_count": 36,
   "id": "fd35c431",
   "metadata": {},
   "outputs": [
    {
     "name": "stdout",
     "output_type": "stream",
     "text": [
      "Singed against Anivia winrate:\n"
     ]
    },
    {
     "data": {
      "text/plain": [
       "57.14"
      ]
     },
     "execution_count": 36,
     "metadata": {},
     "output_type": "execute_result"
    }
   ],
   "source": [
    "matchaps('Singed', 'Anivia')"
   ]
  },
  {
   "cell_type": "markdown",
   "id": "01fa241b",
   "metadata": {},
   "source": [
    "На первый взгляд, опасность представляет только Zilean"
   ]
  },
  {
   "cell_type": "code",
   "execution_count": 37,
   "id": "78a3d2ca",
   "metadata": {},
   "outputs": [],
   "source": [
    "\n",
    "def all_matchaps(your_champion):\n",
    "    '''\n",
    "    Функция показывает 10 чемпионов, против которых у выбранного нами героя меньший винрейт\n",
    "    '''\n",
    "    unique_champs = pd.DataFrame(stats['name'].unique())\n",
    "    unique_champs.columns = ['champion']\n",
    "    winrate = []\n",
    "    \n",
    "    for i in unique_champs['champion']:\n",
    "        all_champs_games = matchup.query('(champ1 == @your_champion and champ2 == @i) \\\n",
    "        or (champ2 == @your_champion and champ1 == @i)')\n",
    "        \n",
    "        all_champ_1_wins = matchup.query('(champ1 == @your_champion and champ2 == @i and win == 1) \\\n",
    "        or (champ2 == @your_champion and champ1 == @i and win == 0)')\n",
    "        \n",
    "        if len(all_champ_1_wins) >0:\n",
    "            x = round(len(all_champ_1_wins) / len(all_champs_games) * 100,2)\n",
    "            winrate.append(x)\n",
    "        else:\n",
    "            winrate.append(0)\n",
    "\n",
    "    winrate_data = pd.DataFrame(winrate)\n",
    "    winrate_data['champion'] = unique_champs['champion']\n",
    "    winrate_data.columns = ['winrate','champion'] \n",
    "\n",
    "    winrate_data=winrate_data[winrate_data['winrate']>0]\n",
    "    \n",
    "    top_5_conterpicks = winrate_data.sort_values(by='winrate').head(10)\n",
    "    \n",
    "    sns.set_style(\"ticks\",{'axes.grid' : True})\n",
    "    plt.figure(figsize = (10,6))\n",
    "    ax = sns.barplot(x='champion', y='winrate', data=top_5_conterpicks)\n",
    "\n",
    "    ax.set_xticklabels(ax.get_xticklabels(),rotation = 45)\n",
    "    ax.set_title('Топ 10 плохих матчапов')\n",
    "    ax.set_xlabel('Вражеский чампион')\n",
    "    ax.set_ylabel('Винрейт')\n",
    "    plt.show()"
   ]
  },
  {
   "cell_type": "markdown",
   "id": "2d3f6b0e",
   "metadata": {},
   "source": [
    "Рассмотрим самых неудобных противников против чемпиона Singed."
   ]
  },
  {
   "cell_type": "code",
   "execution_count": 38,
   "id": "f763efd9",
   "metadata": {
    "scrolled": false
   },
   "outputs": [
    {
     "data": {
      "image/png": "[encoded data removed]",
      "text/plain": [
       "<Figure size 1000x600 with 1 Axes>"
      ]
     },
     "metadata": {},
     "output_type": "display_data"
    }
   ],
   "source": [
    "all_matchaps('Singed')"
   ]
  },
  {
   "cell_type": "markdown",
   "id": "c7f12eb4",
   "metadata": {},
   "source": [
    "Можно блокировать Zilean, если хотите брать на mid Singed, однако стоит учитывать, что его редко берут на mid. Leona чемпион поддержки и играется только на нижней линии, поэтому будет предстовлять опасность, только начиная с середины игры, когда вы уже будите на пути к победе после успешной линии вначале. Pyke неудобный противник как и Zilean, но его берут на mid редко. Возможно стоит присмотреться к блокировки таких чемпионов как: Orianna, Fizz, Viktor и других более популярных легенд.\n"
   ]
  },
  {
   "cell_type": "markdown",
   "id": "3ad074be",
   "metadata": {},
   "source": [
    "## Вывод"
   ]
  },
  {
   "cell_type": "markdown",
   "id": "e5ccb14e",
   "metadata": {},
   "source": [
    "Основные особенности патча 13.1:\n",
    "1. Самый высокий показатель побед на центральной линии и нижней линии.\n",
    "2. Самый высокий показатель побед у класса поддержки и танков.\n",
    "3. Лучшие легенды по показателю побед: Singed 53.30, Anivia 53.22, Sona 53.03\n",
    "\n",
    "Рекомендации: определенно стоит присмотреться к игре на средней линии, при чем за нетипичных героев, в особенности танков.\n",
    "Моя рекомендация чемпион - Singed. Он имеет низкий ban и pick, что также поможет безприпятственно брать его в каждую игру. Еще стоит отметить, что многие игроки не будут ожидать его против себя на позиции mid и не знают как против него играть.\n",
    "Лучшие блокировки против этого выбора: Zilean, Orianna, Fizz, Viktor."
   ]
  },
  {
   "cell_type": "code",
   "execution_count": null,
   "id": "f4223ee1",
   "metadata": {},
   "outputs": [],
   "source": []
  }
 ],
 "metadata": {
  "kernelspec": {
   "display_name": "Python 3 (ipykernel)",
   "language": "python",
   "name": "python3"
  },
  "language_info": {
   "codemirror_mode": {
    "name": "ipython",
    "version": 3
   },
   "file_extension": ".py",
   "mimetype": "text/x-python",
   "name": "python",
   "nbconvert_exporter": "python",
   "pygments_lexer": "ipython3",
   "version": "3.9.13"
  }
 },
 "nbformat": 4,
 "nbformat_minor": 5
}
